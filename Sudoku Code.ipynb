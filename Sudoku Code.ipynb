{
 "cells": [
  {
   "cell_type": "code",
   "execution_count": 2,
   "id": "729dc3c9-8934-4e9a-a805-33bca9f3cb2b",
   "metadata": {},
   "outputs": [],
   "source": [
    "%matplotlib inline\n",
    "import matplotlib.pyplot as plt\n",
    "import random\n",
    "import math\n",
    "import sys\n",
    "import time\n",
    "rows = 'ABCDEFGHI'\n",
    "cols = '123456789'"
   ]
  },
  {
   "cell_type": "code",
   "execution_count": 3,
   "id": "5c76f83a-78b8-4743-9fd7-52cc05e44968",
   "metadata": {},
   "outputs": [],
   "source": [
    "def cross(a,b):\n",
    "    return [i+j for i in a for j in b]\n",
    "boxes=cross(rows,cols)\n",
    "ru=[cross(r,cols) for r in rows]\n",
    "cu=[cross(rows,c) for c in cols]\n",
    "su=[cross(rs,cs) for rs in ('ABC','DEF','GHI') for cs in('123','456','789')]\n",
    "ul=ru+cu+su\n",
    "units = dict((s, [u for u in ul if s in u])  for s in boxes)\n",
    "peers = dict((s, set(sum(units[s],[]))-set([s]))for s in boxes)\n",
    "def display(values):\n",
    "    width = 1+max(len(values[s]) for s in boxes)\n",
    "    line = '+'.join(['-'*(width*3)]*3)\n",
    "    for r in rows:\n",
    "        print(''.join(values[r+c].center (width)+('|' if c in '36' else '') for c in cols))\n",
    "        if r in 'CF': print(line)\n",
    "    return"
   ]
  },
  {
   "cell_type": "code",
   "execution_count": 4,
   "id": "3975dced-0510-46d7-a087-64ec5d531ffd",
   "metadata": {},
   "outputs": [],
   "source": [
    "def grid_values(grid):\n",
    "    assert len(grid) == 81, \"Input grid must be a string length of 81 (9x9)\"\n",
    "    boxes = cross(rows,cols)\n",
    "    return dict(zip(boxes,grid))"
   ]
  },
  {
   "cell_type": "code",
   "execution_count": 5,
   "id": "058c4d80-530e-47eb-b777-363db18dc2cf",
   "metadata": {},
   "outputs": [],
   "source": [
    "def grid_values_improved(grid):\n",
    "    values = []\n",
    "    all_digits = '123456789'\n",
    "    for c in grid:\n",
    "        if c == '.':\n",
    "            values.append(all_digits)\n",
    "        elif c in all_digits:\n",
    "                values.append(c)\n",
    "    assert len(values) == 81\n",
    "    boxes = cross(rows,cols)\n",
    "    return dict(zip(boxes,values))"
   ]
  },
  {
   "cell_type": "code",
   "execution_count": 6,
   "id": "56960879-3bda-46ab-a1a0-c6aa7db2d346",
   "metadata": {},
   "outputs": [],
   "source": [
    "def elimination(values):\n",
    "    solved_values = [box for box in values.keys() if len(values[box])==1]\n",
    "    for box in solved_values:\n",
    "        digit = values[box]\n",
    "        for peer in peers[box]:\n",
    "            values[peer] = values[peer].replace(digit,'')\n",
    "    return values"
   ]
  },
  {
   "cell_type": "code",
   "execution_count": 8,
   "id": "5e9bab66-7d4c-4f03-b1f4-3f88085cabaf",
   "metadata": {},
   "outputs": [],
   "source": [
    "def only_choice(values):\n",
    "    for unit in ul:\n",
    "        for digit in '123456789':\n",
    "            dplaces = [box for box in unit if digit in values[box]]\n",
    "            if len(dplaces) == 1:\n",
    "                values[dplaces[0]] = digit\n",
    "    return values"
   ]
  },
  {
   "cell_type": "code",
   "execution_count": 9,
   "id": "da97c817-756e-48f2-83e7-47e2bd3d1962",
   "metadata": {},
   "outputs": [],
   "source": [
    "def reduce_puzzle(values):\n",
    "    stalled =False\n",
    "    while not stalled:\n",
    "        solved_values_before = len([box for box in values.keys() if len(values[box])==1])\n",
    "        elimination(values)\n",
    "        only_choice(values)\n",
    "        solved_values_after = len([box for box in values.keys() if len(values[box])==1])\n",
    "        stalled = solved_values_after == solved_values_before\n",
    "        if len([box for box in values.keys() if len(values[box])==1])==0:\n",
    "            return False\n",
    "    return values "
   ]
  },
  {
   "cell_type": "code",
   "execution_count": 10,
   "id": "b95fceff-3dd1-42aa-b66f-08c1cdcca20a",
   "metadata": {},
   "outputs": [],
   "source": [
    "def search(values):\n",
    "    values_reduced = reduce_puzzle(values)\n",
    "    if not values_reduced:\n",
    "        return False\n",
    "    else:\n",
    "        values=values_reduced\n",
    "    if len([box for box in values.keys() if len(values[box])==1])==81:\n",
    "        return values   \n",
    "    possibility_count_list = [(len(values[box]),box) for box in values.keys() if len(values[box])>1]    \n",
    "    possibility_count_list.sort()\n",
    "    for(_,t_box_min) in possibility_count_list:\n",
    "        for i_digit in values[t_box_min]:\n",
    "            new_values = values.copy()\n",
    "            new_values[t_box_min]=i_digit\n",
    "            new_values = search(new_values)\n",
    "            if new_values:\n",
    "                return new_values           \n",
    "    return values\n",
    "def search(values):\n",
    "    values_reduced = reduce_puzzle(values)\n",
    "    if not values_reduced:\n",
    "        return False\n",
    "    else:\n",
    "        values=values_reduced\n",
    "    if len([box for box in values.keys() if len(values[box])==1])==81:\n",
    "        return values  \n",
    "    possibility_count_list = [(len(values[box]),box) for box in values.keys() if len(values[box])>1]\n",
    "    possibility_count_list.sort()\n",
    "    for(_,t_box_min) in possibility_count_list:\n",
    "        for i_digit in values[t_box_min]:\n",
    "            new_values = values.copy()\n",
    "            new_values[t_box_min]=i_digit\n",
    "            new_values = search(new_values)\n",
    "            if new_values:\n",
    "                return new_values\n",
    "            \n",
    "    return values"
   ]
  },
  {
   "cell_type": "code",
   "execution_count": 12,
   "id": "99f59b79-9111-4ca0-ad64-08a8995e6a3c",
   "metadata": {},
   "outputs": [
    {
     "name": "stdout",
     "output_type": "stream",
     "text": [
      ". . 2 |7 8 . |. . 3 \n",
      ". . . |. . 9 |8 . 1 \n",
      "4 . . |. . 3 |. 7 . \n",
      "------+------+------\n",
      "9 . 5 |. . 8 |. . . \n",
      ". . . |. 7 . |. . . \n",
      ". . . |5 . . |4 . 8 \n",
      "------+------+------\n",
      ". 6 . |4 . . |. . 7 \n",
      "3 . 9 |8 . . |. . . \n",
      "8 . . |. 3 1 |6 . . \n",
      "\n",
      "\n",
      "\n",
      "123456789 123456789     2     |    7         8     123456789 |123456789 123456789     3     \n",
      "123456789 123456789 123456789 |123456789 123456789     9     |    8     123456789     1     \n",
      "    4     123456789 123456789 |123456789 123456789     3     |123456789     7     123456789 \n",
      "------------------------------+------------------------------+------------------------------\n",
      "    9     123456789     5     |123456789 123456789     8     |123456789 123456789 123456789 \n",
      "123456789 123456789 123456789 |123456789     7     123456789 |123456789 123456789 123456789 \n",
      "123456789 123456789 123456789 |    5     123456789 123456789 |    4     123456789     8     \n",
      "------------------------------+------------------------------+------------------------------\n",
      "123456789     6     123456789 |    4     123456789 123456789 |123456789 123456789     7     \n",
      "    3     123456789     9     |    8     123456789 123456789 |123456789 123456789 123456789 \n",
      "    8     123456789 123456789 |123456789     3         1     |    6     123456789 123456789 \n",
      "\n",
      "\n",
      "\n",
      "1 9 2 |7 8 4 |5 6 3 \n",
      "5 3 7 |6 2 9 |8 4 1 \n",
      "4 8 6 |1 5 3 |9 7 2 \n",
      "------+------+------\n",
      "9 1 5 |3 4 8 |7 2 6 \n",
      "6 4 8 |9 7 2 |1 3 5 \n",
      "7 2 3 |5 1 6 |4 9 8 \n",
      "------+------+------\n",
      "2 6 1 |4 9 5 |3 8 7 \n",
      "3 5 9 |8 6 7 |2 1 4 \n",
      "8 7 4 |2 3 1 |6 5 9 \n",
      "\n",
      "\n",
      "0.00600743293762207 seconds\n"
     ]
    }
   ],
   "source": [
    "p='..278...3.....98.14....3.7.9.5..8.......7.......5..4.8.6.4....73.98.....8...316..'\n",
    "start_time = time.time()\n",
    "display(grid_values(p))\n",
    "p1=grid_values_improved(p)\n",
    "print(\"\\n\\n\")\n",
    "display(p1)\n",
    "result = search(p1)\n",
    "print(\"\\n\\n\")\n",
    "display(result)\n",
    "time_taken=time.time() - start_time\n",
    "print(\"\\n\\n{0} seconds\".format(time_taken))"
   ]
  },
  {
   "cell_type": "code",
   "execution_count": null,
   "id": "60f89dc1-9e5f-4963-86f8-ed1a547272aa",
   "metadata": {},
   "outputs": [],
   "source": []
  }
 ],
 "metadata": {
  "kernelspec": {
   "display_name": "Python 3",
   "language": "python",
   "name": "python3"
  },
  "language_info": {
   "codemirror_mode": {
    "name": "ipython",
    "version": 3
   },
   "file_extension": ".py",
   "mimetype": "text/x-python",
   "name": "python",
   "nbconvert_exporter": "python",
   "pygments_lexer": "ipython3",
   "version": "3.8.8"
  }
 },
 "nbformat": 4,
 "nbformat_minor": 5
}
